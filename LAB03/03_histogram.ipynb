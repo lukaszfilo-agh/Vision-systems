{
 "cells": [
  {
   "cell_type": "markdown",
   "metadata": {
    "pycharm": {
     "name": "#%% md\n"
    }
   },
   "source": [
    "# Histogram obrazu. Wyrównywanie histogramu."
   ]
  },
  {
   "cell_type": "markdown",
   "metadata": {
    "collapsed": false,
    "pycharm": {
     "name": "#%% md\n"
    }
   },
   "source": [
    "## Cel ćwiczenia\n",
    "\n",
    "- Zapoznanie z pojęciem histogramu obrazu (w odcieniach szarości i kolorze).\n",
    "- Zapoznanie z metodami modyfikacji histogramu (rozciąganie, wyrównywanie, dopasowywanie)."
   ]
  },
  {
   "cell_type": "markdown",
   "metadata": {
    "collapsed": false,
    "pycharm": {
     "name": "#%% md\n"
    }
   },
   "source": [
    "## Histogram\n",
    "\n",
    "- Histogramem obrazu nazywamy wykres słupkowy zdefiniowany następującymi zależnościami:<br>\n",
    "\\begin{equation}\n",
    "h(i) = \\sum_{x=0}^{N-1} \\sum_{y=0}^{M-1} p(i,(x,y))\n",
    "\\end{equation}<br>\n",
    "gdzie:<br>\n",
    "\\begin{equation}\n",
    "p(i) =  \\left\\{\n",
    "  \\begin{array}{l l}\n",
    "    1 & \\quad \\text{gdy} f(x,y) = i\\\\\n",
    "    0 & \\quad \\text{gdy} f(x,y) \\ne i\n",
    "  \\end{array} \\right.\n",
    "\\end{equation}\n",
    "\n",
    "- Inaczej mówiąc, histogram zawiera informacje na temat tego ile pikseli o danym poziomie jasności występuje na obrazie (w przypadku obrazu w odcieniach szarości). Określa się to także rozkładem empirycznym cechy.\n",
    "\n",
    "- Często wykorzystuje się tzw. znormalizowaną postać histogramu  – wszystkie wartości $h(i)$ są dzielone przez liczbę pikseli na obrazie.\n",
    "Otrzymana w ten sposób wielkość to gęstość prawdopodobieństwa wystąpienia na obrazie pikseli o odcieniu $i$.\n",
    "\n",
    "- Histogram można zdefiniować również dla obrazów kolorowych.\n",
    "Otrzymujemy wtedy 3 histogramy – po jednym dla danej składowej: R,G,B (lub HSV, YCbCr, itp.) lub histogram trójwymiarowy.\n",
    "\n",
    "- Histogram jest bardzo użyteczny w przetwarzaniu i analizie obrazów.\n",
    "Wykorzystywany jest przy binaryzacji (szerzej na jednym z kolejnych laboratoriów) oraz do oceny jakości (dynamiki, kontrastu) obrazu.\n",
    "W idealnym przypadku wszystkie poziomy jasności w obrazie powinny być wykorzystane (i to najlepiej w miarę jednolicie)  – obrazowo mówiąc histogram powinien rozciągać się od 0  – 255 (obraz w skali szarości).\n",
    "\n",
    "- W przypadku gdy  wykorzystujemy jedynie fragment dostępnego zakresu (wąski histogram)  lub histogram nie jest jednolity (występują dominujące grupy pikseli) obraz ma dość słaby kontrast.\n",
    "Cechę tę można poprawić stosując tzw. rozciąganie albo wyrównywanie histogramu (ang. *histogram equalization*).</div>"
   ]
  },
  {
   "cell_type": "markdown",
   "metadata": {
    "collapsed": false,
    "pycharm": {
     "name": "#%% md\n"
    }
   },
   "source": [
    "## Histogram dla obrazów w odcieniach szarości\n",
    "\n",
    "1. Zaimportuj potrzebne biblioteki: *OpenCV*, *pyplot* z *matplotlib* i *numpy*.\n",
    "        import cv2\n",
    "        from matplotlib import pyplot as plt\n",
    "        import numpy as np\n",
    "2. Wczytaj obrazy *lenaX.bmp* w skali szarości. *X* jest numerem wczytywanego obrazu (1 - 4).\n",
    "        I = cv2.imread('lenaX.bmp', cv2.IMREAD_GRAYSCALE)\n",
    "3. Oblicz histogram wczytanego obrazu wykorzystując funkcję `cv2.calcHist`.\n",
    "    - Pierwszym argumentem jest obraz, dla którego obliczony zostanie histogram.\n",
    "    Należy go przekazać w nawiasie kwadratowym.\n",
    "    - Drugim argumentem jest numer kanału, dla którego ma zostać obliczony histogram.\n",
    "    Również powinien być przekazany w nawiasie kwadratowym.\n",
    "    - Trzeci argument oznacza maskę, czyli obszar, dla którego ma zostać wyznaczony histogram.\n",
    "    Aby obliczyć dla całego obrazu należy przekazać *None*.\n",
    "    - Czwartym argumentem jest rozmiar histogramu (liczba przedziałów).\n",
    "    Argument powinien być w nawiasie kwadratowym. Dla pełnej skali należy przekazać wartość *256*.\n",
    "    - Ostatnim argumentem jest zakres wartości. Dla obrazów typu *uint8* powinien on wynosić *[0, 256]*.\n",
    "    - Funkcja zwraca obliczony histogram.\n",
    "4. Wyświetl wczytane obrazy i ich histogramy w jednym oknie. Użyj `plt.subplot()` w celu stworzenia siatki wykresów.\n",
    "        figLena, axsLena = plt.subplots(2, 4)\n",
    "Rozmiar utworzonego okna można zmienić wykorzystując instrukcję (uwaga w calach -  1 cal to 2.54cm):\n",
    "        figLena.set_size_inches(20, 10)\n",
    "Przykładowe wyświetlenie obrazu:\n",
    "        axsLena[0, 0].imshow(I1, 'gray', vmin=0, vmax=256)\n",
    "        axsLena[0, 0].axis('off')\n",
    "Przykładowe wyświetlenie histogramu:\n",
    "        axsLena[1, 0].plot(H1)\n",
    "        axsLena[1, 0].grid()\n",
    "5. Przeanalizuj (dokładnie) związek histogramu z jasnością i ostrością obrazu (tu rozumianą jako subiektywne odczucie)."
   ]
  },
  {
   "cell_type": "code",
   "execution_count": null,
   "metadata": {
    "pycharm": {
     "name": "#%% Zadanie 1 - wyświetlanie\n"
    }
   },
   "outputs": [],
   "source": [
    "import cv2\n",
    "import os\n",
    "from matplotlib import pyplot as plt\n",
    "import numpy as np\n",
    "\n",
    "if not os.path.exists(\"lena1.bmp\") :\n",
    "    !wget https://raw.githubusercontent.com/vision-agh/poc_sw/master/03_Histogram/lena1.bmp --no-check-certificate\n",
    "\n",
    "if not os.path.exists(\"lena2.bmp\") :\n",
    "    !wget https://raw.githubusercontent.com/vision-agh/poc_sw/master/03_Histogram/lena2.bmp --no-check-certificate\n",
    "\n",
    "if not os.path.exists(\"lena3.bmp\") :\n",
    "    !wget https://raw.githubusercontent.com/vision-agh/poc_sw/master/03_Histogram/lena3.bmp --no-check-certificate\n",
    "\n",
    "if not os.path.exists(\"lena4.bmp\") :\n",
    "    !wget https://raw.githubusercontent.com/vision-agh/poc_sw/master/03_Histogram/lena4.bmp --no-check-certificate\n"
   ]
  },
  {
   "cell_type": "code",
   "execution_count": null,
   "metadata": {},
   "outputs": [],
   "source": [
    "I1 = cv2.imread('lena1.bmp', cv2.IMREAD_GRAYSCALE)\n",
    "I2 = cv2.imread('lena2.bmp', cv2.IMREAD_GRAYSCALE)\n",
    "I3 = cv2.imread('lena3.bmp', cv2.IMREAD_GRAYSCALE)\n",
    "I4 = cv2.imread('lena4.bmp', cv2.IMREAD_GRAYSCALE)\n",
    "\n",
    "H1 = cv2.calcHist([I1], [0], None, [256], [0, 256])\n",
    "H2 = cv2.calcHist([I2], [0], None, [256], [0, 256])\n",
    "H3 = cv2.calcHist([I3], [0], None, [256], [0, 256])\n",
    "H4 = cv2.calcHist([I4], [0], None, [256], [0, 256])\n",
    "\n",
    "figLena, axsLena = plt.subplots(2, 4, figsize=(16, 8))\n",
    "axsLena[0, 0].imshow(I1, 'gray', vmin=0, vmax=256)\n",
    "axsLena[0, 0].axis('off')\n",
    "axsLena[1, 0].plot(H1)\n",
    "axsLena[1, 0].grid()\n",
    "\n",
    "axsLena[0, 1].imshow(I2, 'gray', vmin=0, vmax=256)\n",
    "axsLena[0, 1].axis('off')\n",
    "axsLena[1, 1].plot(H2)\n",
    "axsLena[1, 1].grid()\n",
    "\n",
    "axsLena[0, 2].imshow(I3, 'gray', vmin=0, vmax=256)\n",
    "axsLena[0, 2].axis('off')\n",
    "axsLena[1, 2].plot(H3)\n",
    "axsLena[1, 2].grid()\n",
    "\n",
    "axsLena[0, 3].imshow(I4, 'gray', vmin=0, vmax=256)\n",
    "axsLena[0, 3].axis('off')\n",
    "axsLena[1, 3].plot(H4)\n",
    "axsLena[1, 3].grid()"
   ]
  },
  {
   "cell_type": "markdown",
   "metadata": {
    "collapsed": false,
    "pycharm": {
     "name": "#%% md\n"
    }
   },
   "source": [
    "## Rozciąganie histogramu\n",
    "\n",
    "Najprostszą metodą poprawienia jakości obrazu jest tzw. rozciągnięcie histogramu.\n",
    "Polega na przeskalowaniu wartości pikseli w obrazie tak, aby wykorzystać cały dostępny zakres [0-255] (oczywiście w przypadku obrazów w odcieniach szarości w reprezentacji 8-bitowej).\n",
    "\n",
    "1. Wczytaj obraz *hist1.bmp* w skali szarości.\n",
    "Oblicz i wyświetl histogram rozpatrywanego obrazu (na wspólnym rysunku z obrazem).\n",
    "Zwróć uwagę na ilość widocznych szczegółów.\n",
    "2. Rozciągnij histogram obrazu. W tym celu można wykorzystać funkcję `cv2.normalize`.\n",
    "    - Pierwszym argumentem funkcji jest obraz poddawany operacji.\n",
    "    - Drugim argumentem jest tablica do której zostanie wpisany wynik.\n",
    "    Należy ją najpierw zainicjalizować.\n",
    "    Najlepiej zrobić to funkcją `np.zeros`, której pierwszym argumentem jest rozmiar obrazu (`I.shape`), a drugim typ danych (`uint8`).\n",
    "    Można również przekazać `None`, a wynik przypisać do nowej zmiennej.\n",
    "    - Trzecim argumentem jest minimalna wartość po normalizacji.\n",
    "    - Czwartym argumentem jest wartość maksymalna po normalizacji.\n",
    "    - Ostatnim argumentem jest typ wykorzystanej normy (uogólnienie pojęcia długości wektora).\n",
    "    Należy wykorzystać normę `cv2.NORM_MINMAX`.\n",
    "3. Rezultat operacji wyświetl (obraz i jego histogram).\n",
    "4. Czy ilość \"widocznych\" szczegółów uległa zmianie?"
   ]
  },
  {
   "cell_type": "code",
   "execution_count": null,
   "metadata": {
    "collapsed": false,
    "pycharm": {
     "name": "#%% Zadanie 2 - rozciąganie\n"
    }
   },
   "outputs": [],
   "source": [
    "if not os.path.exists(\"hist1.bmp\") :\n",
    "    !wget https://raw.githubusercontent.com/vision-agh/poc_sw/master/03_Histogram/hist1.bmp --no-check-certificate\n",
    "\n",
    "if not os.path.exists(\"hist2.bmp\") :\n",
    "    !wget https://raw.githubusercontent.com/vision-agh/poc_sw/master/03_Histogram/hist2.bmp --no-check-certificate\n",
    "\n",
    "if not os.path.exists(\"hist3.bmp\") :\n",
    "    !wget https://raw.githubusercontent.com/vision-agh/poc_sw/master/03_Histogram/hist3.bmp --no-check-certificate\n",
    "\n",
    "if not os.path.exists(\"hist4.bmp\") :\n",
    "    !wget https://raw.githubusercontent.com/vision-agh/poc_sw/master/03_Histogram/hist4.bmp --no-check-certificate\n"
   ]
  },
  {
   "cell_type": "code",
   "execution_count": null,
   "metadata": {},
   "outputs": [],
   "source": [
    "I5 = cv2.imread('hist1.bmp', cv2.IMREAD_GRAYSCALE)\n",
    "I6 = cv2.imread('hist2.bmp', cv2.IMREAD_GRAYSCALE)\n",
    "I7 = cv2.imread('hist3.bmp', cv2.IMREAD_GRAYSCALE)\n",
    "I8 = cv2.imread('hist4.bmp', cv2.IMREAD_GRAYSCALE)\n",
    "\n",
    "H5 = cv2.calcHist([I5], [0], None, [256], [0, 256])\n",
    "H6 = cv2.calcHist([I6], [0], None, [256], [0, 256])\n",
    "H7 = cv2.calcHist([I7], [0], None, [256], [0, 256])\n",
    "H8 = cv2.calcHist([I8], [0], None, [256], [0, 256])\n",
    "\n",
    "figHist, axsHist = plt.subplots(2, 4, figsize=(16, 8))\n",
    "axsHist[0, 0].imshow(I5, 'gray', vmin=0, vmax=256)\n",
    "axsHist[0, 0].axis('off')\n",
    "axsHist[1, 0].plot(H5)\n",
    "axsHist[1, 0].grid()\n",
    "\n",
    "axsHist[0, 1].imshow(I6, 'gray', vmin=0, vmax=256)\n",
    "axsHist[0, 1].axis('off')\n",
    "axsHist[1, 1].plot(H6)\n",
    "axsHist[1, 1].grid()\n",
    "\n",
    "axsHist[0, 2].imshow(I7, 'gray', vmin=0, vmax=256)\n",
    "axsHist[0, 2].axis('off')\n",
    "axsHist[1, 2].plot(H7)\n",
    "axsHist[1, 2].grid()\n",
    "\n",
    "axsHist[0, 3].imshow(I8, 'gray', vmin=0, vmax=256)\n",
    "axsHist[0, 3].axis('off')\n",
    "axsHist[1, 3].plot(H8)\n",
    "axsHist[1, 3].grid()\n",
    "\n",
    "N1 = cv2.normalize(I5, np.zeros(I5.shape, 'uint8'), 0, 255, cv2.NORM_MINMAX)\n",
    "N2 = cv2.normalize(I6, np.zeros(I6.shape, 'uint8'), 0, 255, cv2.NORM_MINMAX)\n",
    "N3 = cv2.normalize(I7, np.zeros(I7.shape, 'uint8'), 0, 255, cv2.NORM_MINMAX)\n",
    "N4 = cv2.normalize(I8, np.zeros(I8.shape, 'uint8'), 0, 255, cv2.NORM_MINMAX)\n",
    "\n",
    "H1 = cv2.calcHist([N1], [0], None, [256], [0, 256])\n",
    "H2 = cv2.calcHist([N2], [0], None, [256], [0, 256])\n",
    "H3 = cv2.calcHist([N3], [0], None, [256], [0, 256])\n",
    "H4 = cv2.calcHist([N4], [0], None, [256], [0, 256])\n",
    "\n",
    "figHist1, axsHist1 = plt.subplots(2, 4, figsize=(16, 8))\n",
    "axsHist1[0, 0].imshow(N1, 'gray', vmin=0, vmax=256)\n",
    "axsHist1[0, 0].axis('off')\n",
    "axsHist1[1, 0].plot(H1)\n",
    "axsHist1[1, 0].grid()\n",
    "\n",
    "axsHist1[0, 1].imshow(N2, 'gray', vmin=0, vmax=256)\n",
    "axsHist1[0, 1].axis('off')\n",
    "axsHist1[1, 1].plot(H2)\n",
    "axsHist1[1, 1].grid()\n",
    "\n",
    "axsHist1[0, 2].imshow(N3, 'gray', vmin=0, vmax=256)\n",
    "axsHist1[0, 2].axis('off')\n",
    "axsHist1[1, 2].plot(H3)\n",
    "axsHist1[1, 2].grid()\n",
    "\n",
    "axsHist1[0, 3].imshow(N4, 'gray', vmin=0, vmax=256)\n",
    "axsHist1[0, 3].axis('off')\n",
    "axsHist1[1, 3].plot(H4)\n",
    "axsHist1[1, 3].grid()"
   ]
  },
  {
   "attachments": {},
   "cell_type": "markdown",
   "metadata": {
    "collapsed": false,
    "pycharm": {
     "name": "#%% md\n"
    }
   },
   "source": [
    "## Wyrównywanie histogramu\n",
    "\n",
    "<div style=\"text-align: justify\">\n",
    "Bardziej zaawansowaną metodą jest tzw. wyrównywanie histogramu (ang. *histogram equalization – HE*).\n",
    "Idea jest następująca: z punktu widzenia lepszego wykorzystania dostępnych poziomów jasności pożądane jest rozciągnięcie \"szczytów\" histogramu, a~skompresowanie \"dolin\" tak, aby taka sama liczba pikseli reprezentowana była przez każdy z dostępnych poziomów jasności (a przynjamniej przybliżona).\n",
    "Warto zwrócić uwagę, że takie przekształcenie powoduje częściową utratę informacji o szczegółach w obszarach \"dolin\".\n",
    "Inaczej mówiąc, dążymy do sytuacji, aby histogram był względnie jednostajny.\n",
    "Operacją, która pozwala wykonać wyrównywanie histogramu, jest przekształcenie LUT z funkcją przejścia w postaci histogramu skumulowanego danego obrazu.</div><br>\n",
    "\n",
    "<div style=\"text-align: justify\">\n",
    "Histogram skumulowany to funkcja obliczona na podstawie histogramu.\n",
    "Jej pierwszy element to liczba pikseli o odcieniu $0$.\n",
    "Kolejne wartości to liczba pikseli o odcieniach od $0$ do $n$.</div>\n",
    "\n",
    "\\begin{equation}\n",
    "C(n) = \\sum_{i=0}^{n} h(i)\n",
    "\\end{equation}\n",
    "\n",
    "<div style=\"text-align: justify\">\n",
    "Jeżeli histogram jest w postaci znormalizowanej (gęstość rozkładu prawdopodobieństwa) to histogram skumulowany stanowi dystrybuantę rozkładu prawdopodobieństwa.</div><br>\n",
    "\n",
    "1. Wyznacz histogram skumulowany dla obrazu *hist1.bmp*.\n",
    "W tym celu wykorzystaj metodę `cumsum` dla histogramu wczytanego obrazu.\n",
    "Nie przyjmuje ona żadnych argumentów, a zwraca skumulowane wartości tablicy, dla której została użyta.\n",
    "Histogram należy wyliczyć dla **obrazka wejściowego**, a nie dla wyniku rozciągania.\n",
    "2. Histogram skumulowany wyświetl razem z histogramem zwykłym na jednym wykresie (nie obok siebie).\n",
    "Na potrzeby wyświetlenia przeskaluj histogram skumulowany tak, by miał taką samą wartość maksymalną jak zwykły histogram.\n",
    "W tym celu wykorzystaj metodę `max`.\n",
    "3. Wyświetlenie kilku linii na jednym wykresie może być zrealizowane w następujący sposób:\n",
    "        figHistCum, axsHistCum = plt.subplots()\n",
    "\n",
    "        axsHistCum.plot(HHist)\n",
    "        axsHistCum.plot(CHistNorm)\n",
    "        axsHistCum.grid()\n",
    "4. Teraz zaimplementuj klasyczny algorytm wyrównywania histogramu.\n",
    "Wykorzystać należy obliczony histogram skumulowany.\n",
    "Należy go przeskalować w taki sposób aby na jego podstawie zrealizować przekształcenie LUT, czyli do zakresu 0 - 255.\n",
    "\n",
    ">Uwaga. Opisany algorytm wyrównywania histogramu jest wersją uproszczoną.\n",
    ">W wersji pełnej należy podczas skalowania tablicy przekodowań LUT pominąć elementy równe *0*.\n",
    ">\n",
    ">W tym celu należy wykorzystać funkcje `np.ma.masked_equal` i `np.ma.filled`.\n",
    ">Pierwsza służy do ukrywania elementów tablicy, natomiast druga zamienia ukryte elementy na podaną wartość.\n",
    ">W tym przypadku elementem ukrywanym i wpisywaną wartością byłoby *0*.\n",
    "\n",
    "5. Na kolejnym rysunku wyświetl obrazek po przekształceniu, jego histogram oraz histogram skumulowany.\n",
    "Co szczególnego można powiedzieć o jego histogramie i histogramie skumulowanym?\n",
    "6. W bibliotece *OpenCV* dostępna jest funkcja wykonująca wyrównywanie histogramu `cv2.equalizeHist`.\n",
    "Jej argumentem jest obraz, którego histogram zostanie wyrównany. Zwraca natomiast obraz wynikowy.\n",
    "Na kolejnym rysunku wyświetl wynik funkcji, jego histogram oraz histogram skumulowany.\n",
    "7. W wykorzystywanej bibliotece zaimplementowana jest również metoda adaptacyjnego wyrównywania histogramu algorytmem CLAHE (ang. *Contrast Limited Adaptive Histogram Equalization*}.\n",
    "   Kilka słów wyjaśnienia.\n",
    "   Wadą poznanej metody HE jest jej \"globalność\" rozumiana jako nieuwzględnianie lokalnych właściwości obrazu.\n",
    "   Dlatego też powstała metoda adaptacyjnego wyrównywania histogramu (AHE).\n",
    "   Jest ona spotykana w dwóch wariantach:\n",
    "   - dla każdego piksela niezależnie, w pewnym jego otoczeniu, wyznaczany jest histogram i przeprowadzane wyrównywanie.\n",
    "     Jak nietrudno się domyślić rozwiązanie jest dość kosztowne obliczeniowo.\n",
    "   - obraz wejściowy dzielony jest na nienachodzące na siebie prostokątne okna.\n",
    "     W każdym z okien obliczany jest histogram i przeprowadzane jest wyrównywanie.\n",
    "     W celu eliminacji błędów na granicy okien, stosuje się interpolację.\n",
    "\n",
    "   Metoda AHE ma jednak tą wadę, że w obszarach jednorodnych wzmacnia szum.\n",
    "   Dlatego też zaproponowano rozwiązanie CLAHE, które zakłada ograniczenie kontrastu (CL).\n",
    "   W metodzie definiuje się maksymalną wartość danego przedziału histogramu (próg ograniczenia kontrastu).\n",
    "   Piksele, które przekraczają próg są następnie równomiernie rozdzielane pomiędzy poszczególne przedziały.\n",
    "   Bardziej szczegółowy opis obu metod dostępny jest na [Wikipedii](https://en.wikipedia.org/wiki/Adaptive_histogram_equalization).\n",
    "\n",
    "8. W celu użycia algorytmu należy wywołać funkcję `cv2.createCLAHE`.\n",
    "    - Pierwszym parametrem jest próg ograniczenia kontrastu.\n",
    "    - Drugi parametr definiuje na ile prostokątów zostanie podzielony obraz w rzęch i kolumnach.\n",
    "    - Zwracany jest zainicjalizowany *smart pointer* do klasy `cv::CLAHE`.\n",
    "9. Aby wykonać wyrównywanie należy użyć metody `apply`.\n",
    "Jej argumentem jest obraz wejściowy. Zwracany jest obraz o zmodyfikowanym histogramie.\n",
    "10. Przetestuj różne parametry algorytmu CLAHE.\n",
    "11. W kolejnym etapie należy przetestować operacje (rozciąganie, wyrównywanie (HE) i adaptacyjne wyrównywanie CLAHE)  na histogramie dla obrazów rzeczywistych. *hist2.bmp*, *hist3.bmp*, *hist4.jpg*.\n",
    "W jednym oknie wyświetl: obraz oryginalny, rozciąganie, wyrównywanie HE oraz wyrównywanie CLAHE."
   ]
  },
  {
   "cell_type": "code",
   "execution_count": null,
   "metadata": {
    "collapsed": false,
    "pycharm": {
     "name": "#%% Zadanie 3 - histogram skumulowany\n"
    }
   },
   "outputs": [],
   "source": [
    "H5_sum = H5.cumsum()\n",
    "H5_sum_N = cv2.normalize(H5_sum, None, 0, H5.max(), cv2.NORM_MINMAX)\n",
    "\n",
    "plt.plot(H5)\n",
    "plt.plot(H5_sum_N)\n",
    "plt.grid()\n",
    "plt.title('Histogram zwykły i skumulowany')"
   ]
  },
  {
   "cell_type": "code",
   "execution_count": null,
   "metadata": {},
   "outputs": [],
   "source": [
    "I = cv2.imread('hist1.bmp', cv2.IMREAD_GRAYSCALE)\n",
    "H = cv2.calcHist([I], [0], None, [256], [0, 256])\n",
    "H_sum = H.cumsum()\n",
    "H_sum_LUT = cv2.normalize(H_sum, None, 0, 255, cv2.NORM_MINMAX)\n",
    "\n",
    "I_LUT = cv2.LUT(I, H_sum_LUT)\n",
    "H_LUT = cv2.calcHist([I_LUT], [0], None, [256], [0, 256])\n",
    "H_LUT_sum = H_LUT.cumsum()\n",
    "\n",
    "f, (im, h, ch) = plt.subplots(1, 3, figsize=(15, 5))\n",
    "f.suptitle('LUT')\n",
    "im.imshow(I_LUT, 'gray')\n",
    "im.set_axis_off()\n",
    "im.set_title('Obrazek')\n",
    "\n",
    "h.plot(H_LUT)\n",
    "h.set_title('Histogram')\n",
    "h.grid()\n",
    "\n",
    "ch.plot(H_LUT_sum)\n",
    "ch.set_title('Histogram skumulowany')\n",
    "ch.grid()"
   ]
  },
  {
   "cell_type": "code",
   "execution_count": null,
   "metadata": {},
   "outputs": [],
   "source": [
    "def print_plot(I, title=''):\n",
    "    H = cv2.calcHist([I], [0], None, [256], [0, 256])\n",
    "    H_sum = H.cumsum()\n",
    "\n",
    "    f, (im, h, ch) = plt.subplots(1, 3, figsize=(15, 5))\n",
    "    f.suptitle(title)\n",
    "    im.imshow(I, 'gray')\n",
    "    im.set_axis_off()\n",
    "    im.set_title('Obrazek')\n",
    "\n",
    "    h.plot(H)\n",
    "    h.set_title('Histogram')\n",
    "    h.grid()\n",
    "\n",
    "    ch.plot(H_sum)\n",
    "    ch.set_title('Histogram skumulowany')\n",
    "    ch.grid()"
   ]
  },
  {
   "cell_type": "code",
   "execution_count": null,
   "metadata": {},
   "outputs": [],
   "source": [
    "I1 = cv2.imread('hist1.bmp', cv2.IMREAD_GRAYSCALE)\n",
    "I2 = cv2.imread('hist2.bmp', cv2.IMREAD_GRAYSCALE)\n",
    "I3 = cv2.imread('hist3.bmp', cv2.IMREAD_GRAYSCALE)\n",
    "I4 = cv2.imread('hist4.bmp', cv2.IMREAD_GRAYSCALE)\n",
    "\n",
    "I1_N = cv2.normalize(I1, None, 0, 255, cv2.NORM_MINMAX)\n",
    "I2_N = cv2.normalize(I2, None, 0, 255, cv2.NORM_MINMAX)\n",
    "I3_N = cv2.normalize(I3, None, 0, 255, cv2.NORM_MINMAX)\n",
    "I4_N = cv2.normalize(I4, None, 0, 255, cv2.NORM_MINMAX)\n",
    "\n",
    "I1_F = cv2.equalizeHist(I1)\n",
    "I2_F = cv2.equalizeHist(I2)\n",
    "I3_F = cv2.equalizeHist(I3)\n",
    "I4_F = cv2.equalizeHist(I4)\n",
    "\n",
    "c = cv2.createCLAHE(clipLimit=60, tileGridSize=(8, 8))\n",
    "I1_C = c.apply(I1)\n",
    "I2_C = c.apply(I2)\n",
    "I3_C = c.apply(I3)\n",
    "I4_C = c.apply(I4)"
   ]
  },
  {
   "cell_type": "code",
   "execution_count": null,
   "metadata": {},
   "outputs": [],
   "source": [
    "print_plot(I1_N, 'Rozciągnięcie')\n",
    "print_plot(I1_F, 'Wyrównanie')\n",
    "print_plot(I1_C, 'CLAHE')\n",
    "\n",
    "print_plot(I2_N, 'Rozciągnięcie')\n",
    "print_plot(I2_F, 'Wyrównanie')\n",
    "print_plot(I2_C, 'CLAHE')\n",
    "\n",
    "print_plot(I3_N, 'Rozciągnięcie')\n",
    "print_plot(I3_F, 'Wyrównanie')\n",
    "print_plot(I3_C, 'CLAHE')\n",
    "\n",
    "print_plot(I4_N, 'Rozciągnięcie')\n",
    "print_plot(I4_F, 'Wyrównanie')\n",
    "print_plot(I4_C, 'CLAHE')"
   ]
  },
  {
   "cell_type": "markdown",
   "metadata": {
    "collapsed": false,
    "pycharm": {
     "name": "#%% md\n"
    }
   },
   "source": [
    "## Histogram dla obrazów kolorowych i jego wyrównywanie\n",
    "\n",
    "1. Wczytaj obraz *lenaRGB.bmp*.\n",
    "2. Wykonaj konwersję przestrzeni barw z BGR do RGB.\n",
    "3. Wyświetl wczytany obraz oraz histogram dla każdej składowej przestrzeni barw.\n",
    "W tym celu można użyć drugiego argumentu wykorzystywanej funkcji (numer kanału).\n",
    "4. Wykonaj wyrównywanie dla każdej składowej obrazu.\n",
    "Połącz otrzymane składowe w nowy obraz i wyświetl go.\n",
    "Jaka jest zasadnicza wada takiego podejścia?\n",
    "5. Przekształć obraz wejściowy do przestrzeni HSV (flaga `cv2.COLOR_BGR2HSV`).\n",
    "Wyświetl histogramy poszczególnych składowych.\n",
    "Manipulacji dokonujemy na składowej odpowiadającej za jasność, czyli V.\n",
    "Wykonaj wyrównywanie histogramu dla tej składowej.\n",
    "Dokonaj podmiany składowej V i wyświetl rezultat operacji.\n",
    "Uprzednio przeprowadź konwersję HSV->RGB (flaga `cv2.COLOR_HSV2RGB`).\n",
    "6. Wykonaj te same operacje dla obrazu *jezioro.jpg*."
   ]
  },
  {
   "cell_type": "code",
   "execution_count": null,
   "metadata": {
    "collapsed": false,
    "pycharm": {
     "name": "#%% Zadanie 4 - histogram\n"
    }
   },
   "outputs": [],
   "source": [
    "if not os.path.exists(\"lenaRGB.bmp\") :\n",
    "    !wget https://raw.githubusercontent.com/vision-agh/poc_sw/master/03_Histogram/lenaRGB.bmp --no-check-certificate\n",
    "\n",
    "if not os.path.exists(\"jezioro.jpg\") :\n",
    "    !wget https://raw.githubusercontent.com/vision-agh/poc_sw/master/03_Histogram/jezioro.jpg --no-check-certificate\n"
   ]
  },
  {
   "cell_type": "code",
   "execution_count": null,
   "metadata": {},
   "outputs": [],
   "source": [
    "def print_plot_RGB(I, title=''):\n",
    "    R = cv2.calcHist([I], [0], None, [256], [0, 256])\n",
    "    G = cv2.calcHist([I], [1], None, [256], [0, 256])\n",
    "    B = cv2.calcHist([I], [2], None, [256], [0, 256])\n",
    "\n",
    "    f, (im, r, g, b) = plt.subplots(1, 4, figsize=(20, 5))\n",
    "    f.suptitle(title)\n",
    "    im.imshow(I)\n",
    "    im.set_axis_off()\n",
    "    im.set_title('Obrazek')\n",
    "\n",
    "    r.plot(R)\n",
    "    r.set_title('Histogram R')\n",
    "    r.grid()\n",
    "\n",
    "    g.plot(G)\n",
    "    g.set_title('Histogram G')\n",
    "    g.grid()\n",
    "\n",
    "    b.plot(B)\n",
    "    b.set_title('Histogram B')\n",
    "    b.grid()"
   ]
  },
  {
   "cell_type": "code",
   "execution_count": null,
   "metadata": {},
   "outputs": [],
   "source": [
    "LENA = cv2.imread('lenaRGB.bmp')\n",
    "LENA = cv2.cvtColor(LENA, cv2.COLOR_BGR2RGB)\n",
    "\n",
    "print_plot_RGB(LENA)"
   ]
  },
  {
   "cell_type": "code",
   "execution_count": null,
   "metadata": {},
   "outputs": [],
   "source": [
    "R_E = cv2.equalizeHist(LENA[:,:,0])\n",
    "G_E = cv2.equalizeHist(LENA[:,:,1])\n",
    "B_E = cv2.equalizeHist(LENA[:,:,2])\n",
    "\n",
    "LENA_E = np.zeros((512, 512, 3))\n",
    "LENA_E[:,:,0] = R_E\n",
    "LENA_E[:,:,1] = G_E\n",
    "LENA_E[:,:,2] = B_E\n",
    "\n",
    "LENA_E = LENA_E.astype('uint8')\n",
    "\n",
    "lena_rgb, l = plt.subplots(figsize=(6, 6))\n",
    "l.imshow(LENA_E)\n",
    "l.set_axis_off()"
   ]
  },
  {
   "cell_type": "code",
   "execution_count": null,
   "metadata": {},
   "outputs": [],
   "source": [
    "LENA_HSV = cv2.cvtColor(LENA, cv2.COLOR_RGB2HSV)\n",
    "print_plot_RGB(LENA_HSV)"
   ]
  },
  {
   "cell_type": "code",
   "execution_count": null,
   "metadata": {},
   "outputs": [],
   "source": [
    "V_E = cv2.equalizeHist(LENA_HSV[:, :, 2])\n",
    "\n",
    "LENA_HSV[:, :, 2] = V_E\n",
    "\n",
    "LENA_HSV = cv2.cvtColor(LENA_HSV, cv2.COLOR_HSV2RGB)\n",
    "\n",
    "lena_hsv, l = plt.subplots(figsize=(6, 6))\n",
    "l.imshow(LENA_HSV)\n",
    "l.set_axis_off()"
   ]
  },
  {
   "cell_type": "code",
   "execution_count": null,
   "metadata": {},
   "outputs": [],
   "source": [
    "JEZIORO = cv2.imread('jezioro.jpg')\n",
    "JEZIORO = cv2.cvtColor(JEZIORO, cv2.COLOR_BGR2RGB)\n",
    "\n",
    "print_plot_RGB(JEZIORO)"
   ]
  },
  {
   "cell_type": "code",
   "execution_count": null,
   "metadata": {},
   "outputs": [],
   "source": [
    "R_E = cv2.equalizeHist(JEZIORO[:,:,0])\n",
    "G_E = cv2.equalizeHist(JEZIORO[:,:,1])\n",
    "B_E = cv2.equalizeHist(JEZIORO[:,:,2])\n",
    "\n",
    "JEZIORO_E = np.zeros((482, 640, 3))\n",
    "JEZIORO_E[:,:,0] = R_E\n",
    "JEZIORO_E[:,:,1] = G_E\n",
    "JEZIORO_E[:,:,2] = B_E\n",
    "\n",
    "JEZIORO_E = JEZIORO_E.astype('uint8')\n",
    "\n",
    "JEZIORO_rgb, l = plt.subplots(figsize=(6, 6))\n",
    "l.imshow(JEZIORO_E)\n",
    "l.set_axis_off()"
   ]
  },
  {
   "cell_type": "code",
   "execution_count": null,
   "metadata": {},
   "outputs": [],
   "source": [
    "JEZIORO_HSV = cv2.cvtColor(JEZIORO, cv2.COLOR_RGB2HSV)\n",
    "print_plot_RGB(JEZIORO_HSV)"
   ]
  },
  {
   "cell_type": "code",
   "execution_count": null,
   "metadata": {},
   "outputs": [],
   "source": [
    "V_E = cv2.equalizeHist(JEZIORO_HSV[:, :, 2])\n",
    "\n",
    "JEZIORO_HSV[:, :, 2] = V_E\n",
    "\n",
    "JEZIORO_HSV = cv2.cvtColor(JEZIORO_HSV, cv2.COLOR_HSV2RGB)\n",
    "\n",
    "JEZIORO_hsv, l = plt.subplots(figsize=(6, 6))\n",
    "l.imshow(JEZIORO_HSV)\n",
    "l.set_axis_off()"
   ]
  },
  {
   "cell_type": "code",
   "execution_count": null,
   "metadata": {},
   "outputs": [],
   "source": []
  }
 ],
 "metadata": {
  "kernelspec": {
   "display_name": ".venv",
   "language": "python",
   "name": "python3"
  },
  "language_info": {
   "codemirror_mode": {
    "name": "ipython",
    "version": 3
   },
   "file_extension": ".py",
   "mimetype": "text/x-python",
   "name": "python",
   "nbconvert_exporter": "python",
   "pygments_lexer": "ipython3",
   "version": "3.11.2"
  },
  "vscode": {
   "interpreter": {
    "hash": "8c372b1eef1bdbdc18fb35b58437e0179efb348b316fa0ff1cf7eafc4576f31a"
   }
  }
 },
 "nbformat": 4,
 "nbformat_minor": 4
}
