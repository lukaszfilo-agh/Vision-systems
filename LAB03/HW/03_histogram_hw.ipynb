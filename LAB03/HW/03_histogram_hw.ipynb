{
 "cells": [
  {
   "cell_type": "markdown",
   "metadata": {
    "collapsed": false
   },
   "source": [
    "## Zadanie domowe: BBHE i DSIHE\n",
    "\n",
    "W klasycznym wyrównywaniu histogramu HE  po wykonaniu operacji jasność obrazu ulega zmianie.\n",
    "Dało się to zaobserwować podczas przeprowadzonych eksperymentów.\n",
    "Jeśli nie to należy uruchomić skrypt z sekcji A i zwrócić na to uwagę.\n",
    "Średnia jasność dąży do środkowego poziomu szarości.\n",
    "Jest to wada i dlatego klasyczne HE ma ograniczone zastosowanie.\n",
    "\n",
    "Powstało sporo metod, które eliminują to niekorzystne zjawisko.\n",
    "Najprostsze z nich polegają na dekompozycji obrazu wejściowego na dwa podobrazy (wg. pewnego kryterium).\n",
    "Następnie operacja HE wykonywana jest dla tych podobrazów.\n",
    "\n",
    "Dwie znane z literatury metody to:\n",
    "- Bi-Histogram Equalization\n",
    "- DSIHE - Dualistic Sub-Image Histogram Equalization\n",
    "\n",
    "W metodzie BBHE za kryterium podziału przyjmuje się średnią jasność w obrazie.\n",
    "W DSIHE obraz dzieli się na dwa podobrazy o takiej samej liczbie pikseli (jaśniejszych i ciemniejszych).\n",
    "\n",
    "W ramach zadania należy zaimplementować wybraną metodę: BBHE lub DSIHE (ew. obie).\n",
    "\n",
    "1. Wczytaj obraz *jet.bmp* i wylicz jego histogram.\n",
    "2. W kolejnym kroku należy wyznaczyć próg podziału obrazu na dwa podobrazy (*lm*).\n",
    "3. Dla BBHE wyznacz średnią jasność obrazu. Dla DSIHE można wykorzystać histogram skumulowany.\n",
    "Należy znaleźć poziom jasności który znajduje się \"w połowie\" histogramu skumulowanego.\n",
    "W tym celu warto stworzyć tablicę, zawierającą moduł histogramu skumulowanego pomniejszonego o połowę liczby pikseli.\n",
    "Następnie znaleźć minimum.\n",
    "4. Dalej należy podzielić histogram oryginalnego obrazu na dwa histogramy *H1* i *H2*.\n",
    "Dla każdego z nich wyliczyć histogram skumulowany ($C_1$ i $C_2$) i wykonać normalizację.\n",
    "Normalizacja polega na podzieleniu każdego histogramu przez jego największy element.\n",
    "5. Na podstawie histogramów skumulowanych należy stworzyć przekształcenie LUT.\n",
    "Należy tak przeskalować $C_1$ i $C_2$, aby uzyskać jednorodne przekształcenie.\n",
    "Tablicę $C_1$ wystarczy pomnożyć przez próg podziału.\n",
    "Tablicę $C_2$ należy przeskalować do przedziału: $<lm+1; 255>$, gdzie $lm$ jest progiem podziału.<br>\n",
    "$C_{1n} = (lm)*C1;$<br>\n",
    "$C_{2n} = lm+1 + (255-lm-1)*C2;$<br>\n",
    "Następnie dwie części tablicy przekodowań należy połączyć.\n",
    "6. Ostatecznie należy wykonać operację LUT i wyświetlić wynik wyrównywania histogramu.\n",
    "Porównaj wynik operacji BBHE lub DSIHE z klasycznym HE."
   ]
  },
  {
   "cell_type": "code",
   "execution_count": null,
   "metadata": {
    "collapsed": false,
    "pycharm": {
     "name": "#%% Zadanie domowe - BBHE\n"
    }
   },
   "outputs": [],
   "source": [
    "import cv2\n",
    "import os\n",
    "from matplotlib import pyplot as plt\n",
    "import numpy as np\n",
    "\n",
    "if not os.path.exists(\"jet.bmp\") :\n",
    "    !wget https://raw.githubusercontent.com/vision-agh/poc_sw/master/03_Histogram/jet.bmp --no-check-certificate\n"
   ]
  },
  {
   "cell_type": "code",
   "execution_count": null,
   "metadata": {
    "collapsed": false,
    "pycharm": {
     "name": "#%% Zadanie domowe - DSIHE\n"
    }
   },
   "outputs": [],
   "source": [
    "jet = cv2.imread('jet.bmp', cv2.IMREAD_GRAYSCALE)\n",
    "\n",
    "jet_histogram = cv2.calcHist([jet], [0], None, [256], [0, 256])\n",
    "jet_mean = np.round(np.mean(jet)).astype('uint8')\n",
    "\n",
    "jet_histogram_1 = jet_histogram[0:jet_mean]\n",
    "jet_histogram_2 = jet_histogram[jet_mean:]\n",
    "\n",
    "C1 = jet_histogram_1.cumsum()/np.max(jet_histogram_1)\n",
    "C2 = jet_histogram_2.cumsum()/np.max(jet_histogram_2)\n",
    "\n",
    "C1_N = C1 * jet_mean\n",
    "C2_N = jet_mean + 1 + (255 - jet_mean - 1) * C2\n",
    "\n",
    "C1_NN = cv2.normalize(C1_N, None, 0, jet_mean, cv2.NORM_MINMAX)\n",
    "C2_NN = cv2.normalize(C2_N, None, jet_mean, 255, cv2.NORM_MINMAX)\n",
    "\n",
    "C = np.append(C1_NN, C2_NN)\n",
    "\n",
    "jet_LUT = cv2.LUT(jet, C)\n",
    "jet_LUT_histogram = cv2.calcHist(jet_LUT, [0], None, [256], [0, 256])\n",
    "\n",
    "jet_eq = cv2.equalizeHist(jet)\n",
    "jet_eq_histogram = cv2.calcHist(jet_eq, [0], None, [256], [0, 256])"
   ]
  },
  {
   "cell_type": "code",
   "execution_count": null,
   "metadata": {},
   "outputs": [],
   "source": [
    "fig1, (im, hist) = plt.subplots(1, 2, figsize=(10, 5))\n",
    "fig1.suptitle('Obraz oryginalny')\n",
    "im.imshow(jet, 'gray', vmin=0, vmax=256)\n",
    "im.set_axis_off()\n",
    "im.set_title('Obraz')\n",
    "hist.plot(jet_histogram)\n",
    "hist.set_title('Histogram')\n",
    "\n",
    "fig2, (im, hist) = plt.subplots(1, 2, figsize=(10, 5))\n",
    "fig2.suptitle('Obraz po przekształceniu BBHE')\n",
    "im.imshow(jet_LUT, 'gray', vmin=0, vmax=256)\n",
    "im.set_axis_off()\n",
    "im.set_title('Obraz')\n",
    "hist.plot(jet_LUT_histogram)\n",
    "hist.set_title('Histogram')\n",
    "\n",
    "fig3, (im, hist) = plt.subplots(1, 2, figsize=(10, 5))\n",
    "fig3.suptitle('Obraz po przekształceniu funkcją z biblioteki')\n",
    "im.imshow(jet_eq, 'gray', vmin=0, vmax=256)\n",
    "im.set_axis_off()\n",
    "im.set_title('Obraz')\n",
    "hist.plot(jet_eq_histogram)\n",
    "hist.set_title('Histogram')"
   ]
  }
 ],
 "metadata": {
  "kernelspec": {
   "display_name": "Python 3",
   "language": "python",
   "name": "python3"
  },
  "language_info": {
   "codemirror_mode": {
    "name": "ipython",
    "version": 3
   },
   "file_extension": ".py",
   "mimetype": "text/x-python",
   "name": "python",
   "nbconvert_exporter": "python",
   "pygments_lexer": "ipython3",
   "version": "3.11.2"
  }
 },
 "nbformat": 4,
 "nbformat_minor": 0
}
