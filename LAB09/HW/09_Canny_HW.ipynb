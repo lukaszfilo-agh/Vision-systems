{
 "cells": [
  {
   "cell_type": "markdown",
   "source": [
    "## Zadanie domowe - Algorytm Canny'ego\n",
    "\n",
    "Celem zadania domowego jest wykonanie pełnej implementacji algorytmu Canny'ego.\n",
    "\n",
    "W ramach ćwiczenia w trakcie laboratorium wyznaczono obrazy $g_{NH}$ i $g_{NL}$.\n",
    "Dla przypomnienia:\n",
    "Można powiedzieć, że na obrazie $g_{NH}$ są \"pewne\" krawędzie.\n",
    "Natomiast na $g_{NL}$ \"potencjalne\".\n",
    "Często krawędzie \"pewne\" nie są ciągłe.\n",
    "Wykorzystuje się więc krawędzie \"potencjalne\", aby uzupełnić nieciągłości.\n",
    "Procedura wygląda następująco:\n",
    "1. Stwórz stos zawierający wszystkie piksele zaznaczone na obrazie $g_{NH}$.\n",
    "W tym celu wykorzystaj listę współrzędnych `[row, col]`.\n",
    "Do pobrania elementu z początku służy metoda `list.pop()`.\n",
    "Do dodania elementu na koniec listy służy metoda `list.append(new)`.\n",
    "2. Stwórz obraz, który będzie zawierał informację czy dany piksel został już odwiedzony.\n",
    "3. Stwórz obraz, który zawierać będzie wynikowe krawędzie.\n",
    "Jej rozmiar jest równy rozmiarowi obrazu.\n",
    "4. Wykonaj pętlę, która będzie pobierać elementy z listy, dopóki ta nie będzie pusta.\n",
    "W tym celu najlepiej sprawdzi się pętla `while`.\n",
    "    - W każdej iteracji pobierz element ze stosu.\n",
    "    - Sprawdź, czy dany element został już odwiedzony.\n",
    "    - Jeśli nie został, to:\n",
    "        - Oznacz go jako odwiedzony,\n",
    "        - Oznacz piksel jako krawędź w wyniku,\n",
    "        - Sprawdź otoczenie piksela w obrazie $g_{NL}$,\n",
    "        - Dodaj do stosu współrzędne otoczenia, które zawierają krawędź.\n",
    "        Można to wykonać np. pętlą po stworzonym otoczeniu.\n",
    "7. Wyświetl obraz oryginalny, obraz $g_{NH}$ oraz obraz wynikowy.\n",
    "8. Porównaj wynik algorytmu z wynikiem OpenCV.\n",
    "\n",
    "Pomocnicze obrazy $g_{NH}$ i $g_{NL}$ zostały wprowadzone dla uproszczenia opisu.\n",
    "Algorytm można zaimplementować w bardziej \"zwarty\" sposób.\n",
    "\n",
    "Na podstawie powyższego opisu zaimplementuj pełny algorytm Canny'ego."
   ],
   "metadata": {
    "collapsed": false,
    "pycharm": {
     "name": "#%% md\n"
    }
   }
  },
  {
   "cell_type": "code",
   "execution_count": null,
   "outputs": [],
   "source": [],
   "metadata": {
    "collapsed": false,
    "pycharm": {
     "name": "#%% Zadanie domowe - Canny\n"
    }
   }
  }
 ],
 "metadata": {
  "kernelspec": {
   "display_name": "Python 3",
   "language": "python",
   "name": "python3"
  },
  "language_info": {
   "codemirror_mode": {
    "name": "ipython",
    "version": 3
   },
   "file_extension": ".py",
   "mimetype": "text/x-python",
   "name": "python",
   "nbconvert_exporter": "python",
   "pygments_lexer": "ipython3",
   "version": "3.8.3"
  }
 },
 "nbformat": 4,
 "nbformat_minor": 4
}