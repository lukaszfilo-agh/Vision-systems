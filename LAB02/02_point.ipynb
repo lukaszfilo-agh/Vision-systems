{
 "cells": [
  {
   "cell_type": "markdown",
   "metadata": {},
   "source": [
    "# Przekształcenia punktowe"
   ]
  },
  {
   "cell_type": "markdown",
   "metadata": {},
   "source": [
    "W trakcie niniejszego ćwiczenia zapoznamy się z podstawowymi operacjami punktowymi (bezkontekstowymi) przeprowadzanymi na obrazach cyfrowych:\n",
    "- typu LUT (operacja jednoargumentowa),\n",
    "- arytmetycznymi (operacje dwuargumentowe): dodawanie, odejmowanie, mnożenie, dzielenie,\n",
    "- logicznymi (operacje jedno i dwuargumentowe): AND, OR, XOR, NOT."
   ]
  },
  {
   "cell_type": "markdown",
   "metadata": {},
   "source": [
    "Na początku zaimportuj potrzebne biblioteki."
   ]
  },
  {
   "cell_type": "code",
   "execution_count": null,
   "metadata": {},
   "outputs": [],
   "source": [
    "import cv2\n",
    "import numpy as np\n",
    "import matplotlib.pyplot as plt\n",
    "import os\n"
   ]
  },
  {
   "cell_type": "markdown",
   "metadata": {},
   "source": [
    "## Operacja LUT\n",
    "\n",
    "**Operacja LUT** polega na przekształcaniu wartości poszczególnych pikseli obrazu przy użyciu z góry przygotowanych tabel przekodowań (tabel korekcji).\n",
    "\n",
    "W przetwarzaniu obrazów najczęściej wykorzystuje się następujące funkcje:\n",
    "- typu kwadratowa, pierwiastek kwadratowy\n",
    "- typu logarytm, odwrócony logarytm\n",
    "- typu wykładnicza,\n",
    "- inne (np. piłokształtna)."
   ]
  },
  {
   "cell_type": "markdown",
   "metadata": {},
   "source": [
    "W tym zadaniu zostały dla Państwa przygotowane tablice przekodowania.\n",
    "Proszę pobrać je z githuba `https://raw.githubusercontent.com/vision-agh/poc_sw/master/02_Point/lut.py` (można użyć znanego polecenia !wget), a następnie zaimportować je poleceniem `import lut`.\n",
    "Od tego momentu można się do nich odwoływać w następujący sposób: `lut.log` itd."
   ]
  },
  {
   "cell_type": "code",
   "execution_count": null,
   "metadata": {},
   "outputs": [],
   "source": [
    "if not os.path.exists('lut.py'):\n",
    "    !wget https://raw.githubusercontent.com/vision-agh/poc_sw/master/02_Point/lut.py\n",
    "\n",
    "import lut\n"
   ]
  },
  {
   "cell_type": "markdown",
   "metadata": {},
   "source": [
    "Wyświetl przykładowe przekodowanie wykorzystując funkcję `plt.plot(lut.kwadratowa)`."
   ]
  },
  {
   "cell_type": "code",
   "execution_count": null,
   "metadata": {},
   "outputs": [],
   "source": [
    "plt.plot(lut.kwadratowa)\n"
   ]
  },
  {
   "cell_type": "markdown",
   "metadata": {},
   "source": [
    "Wybierz jeden z obrazów: _lena.bmp_ lub _jet.bmp_ (w razie potrzeby pobierz go z githuba):\n",
    "- https://raw.githubusercontent.com/vision-agh/poc_sw/master/02_Point/lena.bmp\n",
    "- https://raw.githubusercontent.com/vision-agh/poc_sw/master/02_Point/jet.bmp\n",
    "\n",
    "Wczytaj go i wyświetl."
   ]
  },
  {
   "cell_type": "code",
   "execution_count": null,
   "metadata": {},
   "outputs": [],
   "source": [
    "if not os.path.exists('jet.bmp'):\n",
    "    !wget https://raw.githubusercontent.com/vision-agh/poc_sw/master/02_Point/jet.bmp\n",
    "\n",
    "image = cv2.imread('jet.bmp')\n",
    "plt.imshow(image)\n",
    "plt.xticks([])\n",
    "plt.yticks([])\n",
    "plt.show()\n"
   ]
  },
  {
   "cell_type": "markdown",
   "metadata": {},
   "source": [
    "Na wybranym obrazie wykonaj operację LUT.\n",
    "Służy do tego funkcja `cv2.LUT` przyjmująca dwa argumenty: obraz oraz tablicę przekodowania.\n",
    "Wybierz dowolną z zaimportowanych tablic i wyświetl wynikowy obraz."
   ]
  },
  {
   "cell_type": "code",
   "execution_count": null,
   "metadata": {},
   "outputs": [],
   "source": [
    "image = cv2.LUT(image, lut.pila)\n",
    "plt.imshow(image)\n",
    "plt.xticks([])\n",
    "plt.yticks([])\n",
    "plt.show()"
   ]
  },
  {
   "cell_type": "markdown",
   "metadata": {},
   "source": [
    "Aby lepiej zobaczyć w jaki sposób działają różne przekodowania LUT, skonstruujemy funkcję, która jako argumenty pobierać będzie obrazek oryginalny oraz tablicę przekodowania, a następnie na wspólnym rysunku będzie wyświetlać: funkcję, obraz wejściowy oraz wynik przekodowania.\n",
    "\n",
    "Przypomnienie składni tworzenia funkcji w pythonie:\n",
    "```{python}\n",
    "  def nazwa_funkcji(para, metry):\n",
    "  \t# cialo funkcji\n",
    "```"
   ]
  },
  {
   "cell_type": "markdown",
   "metadata": {},
   "source": [
    "  - Stwórz nową funkcję i nazwij ją LUT.\n",
    "  - Funkcja powinna przyjmować dwa parametry: obraz oraz tablicę przekodowania.\n",
    "  - W ciele funkcji wykonaj przekodowanie LUT, podobnie jak wcześniej w przykładzie.\n",
    "  - Funkcja powinna wyświetlić wykres składający się z 3 umieszczonych obok siebie pól: wykres przekodowania, obraz oryginalny oraz obraz przekształcony.\n",
    "    Każdy z wykresów powinien być podpisany.\n",
    "    _(W razie problemów można przypomnieć sobie te zagadnienia z laboratorium wprowadzającego)_\n",
    "  - Jeśli wykres przekodowania jest zbyt rozciągnięty, można go wyrównać, np. `ax2.set_aspect('equal')`."
   ]
  },
  {
   "cell_type": "code",
   "execution_count": null,
   "metadata": {},
   "outputs": [],
   "source": [
    "def LUT(im, table):\n",
    "    image = cv2.imread(im)\n",
    "    fig1, (pl, org, tab) = plt.subplots(1, 3, figsize=(12, 4))\n",
    "    pl.plot(table)\n",
    "    org.imshow(image)\n",
    "    image = cv2.LUT(image, table)\n",
    "    tab.imshow(image)\n",
    "    pl.set(xticks=[], yticks=[])\n",
    "    pl.set_title('Wykres przekodowania')\n",
    "    org.set(xticks=[], yticks=[])\n",
    "    org.set_title('Obraz oryginalny')\n",
    "    tab.set(xticks=[], yticks=[])\n",
    "    tab.set_title('Obraz przekształcony')\n"
   ]
  },
  {
   "cell_type": "markdown",
   "metadata": {},
   "source": [
    "Wywołaj przygotowaną funkcję dla każdego z przekształceń.\n",
    "W wyniku powinno powstać 7 wykresów."
   ]
  },
  {
   "cell_type": "code",
   "execution_count": null,
   "metadata": {},
   "outputs": [],
   "source": [
    "LUT('jet.bmp', lut.log)\n",
    "LUT('jet.bmp', lut.pila)\n",
    "LUT('jet.bmp', lut.odwlog)\n",
    "LUT('jet.bmp', lut.wykladnicza)\n",
    "LUT('jet.bmp', lut.kwadratowa)\n",
    "LUT('jet.bmp', lut.odwrotna)\n",
    "LUT('jet.bmp', lut.pierwiastkowa)\n"
   ]
  },
  {
   "cell_type": "markdown",
   "metadata": {},
   "source": [
    "## Operacja arytmetyczne\n",
    "\n",
    "### Dodawanie\n",
    "\n",
    "Wczytaj dwa obrazy _lena.bmp_ i _jet.bmp_ i wyświetl je."
   ]
  },
  {
   "cell_type": "code",
   "execution_count": null,
   "metadata": {},
   "outputs": [],
   "source": [
    "if not os.path.exists('jet.bmp'):\n",
    "    !wget https://raw.githubusercontent.com/vision-agh/poc_sw/master/02_Point/jet.bmp\n",
    "\n",
    "if not os.path.exists('lena.bmp'):\n",
    "    !wget https://raw.githubusercontent.com/vision-agh/poc_sw/master/02_Point/lena.bmp\n",
    "\n",
    "jet = cv2.imread('jet.bmp')\n",
    "lena = cv2.imread('lena.bmp')\n",
    "\n",
    "fig1, (l, j) = plt.subplots(1, 2, figsize=(8, 4))\n",
    "l.imshow(lena)\n",
    "l.set(xticks=[], yticks=[])\n",
    "j.imshow(jet)\n",
    "j.set(xticks=[], yticks=[])\n"
   ]
  },
  {
   "cell_type": "markdown",
   "metadata": {},
   "source": [
    "Dodaj obrazy _lena_ i _jet_, wykorzystaj funkcję `cv2.add`.\n",
    "Uzyskany wynik wyświetl."
   ]
  },
  {
   "cell_type": "code",
   "execution_count": null,
   "metadata": {},
   "outputs": [],
   "source": [
    "sum8 = cv2.add(jet, lena)\n",
    "plt.imshow(sum8)\n",
    "plt.xticks([])\n",
    "plt.yticks([])\n",
    "plt.show()\n"
   ]
  },
  {
   "cell_type": "markdown",
   "metadata": {},
   "source": [
    "Czy wynik sumowania jest satysfakcjonujący?\n",
    "Co może niekorzystnie wpływać na rezultat operacji?\n",
    "Spróbuj wykonać dodawanie ponownie wykorzystując typ uint16 (`jet.astype('uint16')`).\n",
    "Wynikowy obraz należy przeskalować do zakresu 0-255, zamienić na typ uint8 i wyświetlić. _\n",
    "Uwaga: operacja ta jest użyteczna w przypadku, gdy dane do wyświetlenia wykraczają poza zakres 0-255, w przeciwnym przypadku jej wykorzystanie może zniekształcić wyniki._"
   ]
  },
  {
   "cell_type": "code",
   "execution_count": null,
   "metadata": {},
   "outputs": [],
   "source": [
    "jet16 = jet.astype('uint16')\n",
    "lena16 = lena.astype('uint16')\n",
    "\n",
    "sum16 = cv2.add(jet16, lena16)\n",
    "\n",
    "sum16_norm = cv2.normalize(sum16, sum16, 0, 255, cv2.NORM_MINMAX)\n",
    "plt.imshow(sum16_norm)\n",
    "plt.xticks([])\n",
    "plt.yticks([])\n",
    "plt.show()\n"
   ]
  },
  {
   "cell_type": "markdown",
   "metadata": {},
   "source": [
    "### Kombinacja liniowa\n",
    "\n",
    "Do wykonywania operacji kombinacji liniowej służy funkcja `cv2.addWeighted`.\n",
    "Zapoznaj się z dokumentacją tej funkcji i przetestuj kilka kombinacji liniowych obrazów _lena_ i _jet_.\n",
    "Wyświetl wynik dowolnej z nich."
   ]
  },
  {
   "cell_type": "code",
   "execution_count": null,
   "metadata": {},
   "outputs": [],
   "source": [
    "w1 = cv2.addWeighted(lena, 0.3, jet, 0.4, 0)\n",
    "w2 = cv2.addWeighted(lena, 0.1, jet, 0.9, 0)\n",
    "w3 = cv2.addWeighted(lena, 0.8, jet, 0.2, 0)\n",
    "\n",
    "fig2, (x, y, z) = plt.subplots(1, 3, figsize=(12, 4))\n",
    "x.imshow(w1)\n",
    "x.set(xticks=[], yticks=[])\n",
    "y.imshow(w2)\n",
    "y.set(xticks=[], yticks=[])\n",
    "z.imshow(w3)\n",
    "z.set(xticks=[], yticks=[])"
   ]
  },
  {
   "cell_type": "markdown",
   "metadata": {},
   "source": [
    "### Odejmowanie\n",
    "\n",
    "Wykorzystując funkcję `cv2.subtract` odejmij obrazy _lena_ i _jet_."
   ]
  },
  {
   "cell_type": "code",
   "execution_count": null,
   "metadata": {},
   "outputs": [],
   "source": [
    "sub8 = cv2.subtract(lena, jet)\n",
    "plt.imshow(sub8)\n",
    "plt.xticks([])\n",
    "plt.yticks([])\n",
    "plt.show()\n"
   ]
  },
  {
   "cell_type": "markdown",
   "metadata": {},
   "source": [
    "Czy wynik odejmowania jest satysfakcjonujący?\n",
    "Co może niekorzystnie wpływać na rezultat operacji?\n",
    "Często zamiast zwykłego odejmowania wykorzystuje się operację wartość bezwzględna z różnicy (pozwala to między innymi uniknąć pokazanych powyżej problemów).\n",
    "Zamień typ obrazów _lena_ i _jet_ z uint8 na **int16**, odejmij je od siebie, a następnie wykorzystując funkcję `np.abs` wykonaj operację wartość bezwzględna z różnicy.\n",
    "Wyświetl ten obraz.\n",
    "Zastanów się, dlaczego ta zmiana poprawia wynik odejmowania?"
   ]
  },
  {
   "cell_type": "code",
   "execution_count": null,
   "metadata": {},
   "outputs": [],
   "source": [
    "jet16 = jet.astype('int16')\n",
    "lena16 = lena.astype('int16')\n",
    "\n",
    "sub16 = cv2.subtract(lena16, jet16)\n",
    "\n",
    "sub16_norm = cv2.normalize(sub16, sub16, 0, 255, cv2.NORM_MINMAX)\n",
    "sub16_abs = np.abs(sub16_norm)\n",
    "plt.imshow(sub16_abs)\n",
    "plt.xticks([])\n",
    "plt.yticks([])\n",
    "plt.show()\n"
   ]
  },
  {
   "cell_type": "markdown",
   "metadata": {},
   "source": [
    "### Mnożenie\n",
    "\n",
    "Mnożenie dwóch obrazów pozwala wykonać funkcja `cv2.multiply`.\n",
    "Wykonaj mnożenie obrazów _lena_ i _jet_.\n",
    "Czy wynik takiej operacji zawiera jakąś istotną informację?\n",
    "Dlaczego?"
   ]
  },
  {
   "cell_type": "code",
   "execution_count": null,
   "metadata": {},
   "outputs": [],
   "source": [
    "mul = cv2.multiply(lena, jet)\n",
    "plt.imshow(mul)\n",
    "plt.xticks([])\n",
    "plt.yticks([])\n",
    "plt.show()\n"
   ]
  },
  {
   "cell_type": "markdown",
   "metadata": {},
   "source": [
    "Mnożenie częściej wykorzystuje się jako:\n",
    "  + mnożenie przez stałą $-$ co powoduje ogólne rozjaśnienie albo ściemnienie obrazu,\n",
    "  + mnożenie przez maskę $-$ czyli obraz binarny."
   ]
  },
  {
   "cell_type": "markdown",
   "metadata": {},
   "source": [
    "Wczytaj maskę _kolo.bmp_ (https://raw.githubusercontent.com/vision-agh/poc_sw/master/02_Point/kolo.bmp).\n",
    "Przemnóż wybrany obraz przez maskę i wyświetl wynik.\n",
    "Mnożenie przez maskę można zrealizować za pomocą funkcji `cv2.multiply`, ale maskę należy należy najpierw przekształcić z zakresu 0-255 do 0-1, na przykład `(maska).astype('bool').astype('uint8')`."
   ]
  },
  {
   "cell_type": "code",
   "execution_count": null,
   "metadata": {},
   "outputs": [],
   "source": [
    "if not os.path.exists('kolo.bmp'):\n",
    "    !wget https://raw.githubusercontent.com/vision-agh/poc_sw/master/02_Point/kolo.bmp\n",
    "\n",
    "maska = cv2.imread('kolo.bmp')\n",
    "maska = (maska).astype('bool').astype('uint8')\n",
    "\n",
    "masked = cv2.multiply(jet, maska)\n",
    "plt.imshow(masked)\n",
    "plt.xticks([])\n",
    "plt.yticks([])\n",
    "plt.show()\n"
   ]
  },
  {
   "cell_type": "markdown",
   "metadata": {},
   "source": [
    "### Negatyw\n",
    "\n",
    "Negatyw obrazu uzyskuje się za pomocą funkcji `cv2.bitwise_not(img)`\n",
    "Negatyw obrazu można również uzyskać wykorzystując przekodowanie LUT.\n",
    "Można w tym celu posłużyć się przygotowaną wcześniej tablicą `lut.odwrotna`.\n",
    "Przetestuj działanie tych funkcji i wykonaj negatyw obrazu _lena_ dowolnym sposobem."
   ]
  },
  {
   "cell_type": "code",
   "execution_count": null,
   "metadata": {},
   "outputs": [],
   "source": [
    "lena_lut = cv2.LUT(lena, lut.odwrotna)\n",
    "lena_neg = cv2.bitwise_not(lena)\n",
    "\n",
    "fig3, (ll, jn) = plt.subplots(1, 2, figsize=(8, 4))\n",
    "ll.imshow(lena_lut)\n",
    "ll.set(xticks=[], yticks=[])\n",
    "jn.imshow(lena_neg)\n",
    "jn.set(xticks=[], yticks=[])"
   ]
  },
  {
   "cell_type": "markdown",
   "metadata": {},
   "source": [
    "## Operacje logiczne\n",
    "\n",
    "Na poszczególnych punktach obrazu (najczęściej binarnego $-$ czyli składającego się z dwóch kolorów: czarnego i białego) można wykonywać operacje logiczne: NOT, AND, OR, XOR itp.\n",
    "Wczytaj dwa obrazy: _kolo.bmp_ i _kwadrat.bmp_ (https://raw.githubusercontent.com/vision-agh/poc_sw/master/02_Point/kwadrat.bmp), następnie wyświetl je."
   ]
  },
  {
   "cell_type": "code",
   "execution_count": null,
   "metadata": {},
   "outputs": [],
   "source": [
    "if not os.path.exists('kolo.bmp'):\n",
    "    !wget https://raw.githubusercontent.com/vision-agh/poc_sw/master/02_Point/kolo.bmp\n",
    "\n",
    "if not os.path.exists('kwadrat.bmp'):\n",
    "    !wget https://raw.githubusercontent.com/vision-agh/poc_sw/master/02_Point/kwadrat.bmp\n",
    "\n",
    "kwadrat = cv2.imread('kwadrat.bmp')\n",
    "kolo = cv2.imread('kolo.bmp')\n",
    "\n",
    "fig4, (kw, kol) = plt.subplots(1, 2, figsize=(8, 4))\n",
    "kw.imshow(kwadrat)\n",
    "kw.set(xticks=[], yticks=[])\n",
    "kol.imshow(kolo)\n",
    "kol.set(xticks=[], yticks=[])\n"
   ]
  },
  {
   "cell_type": "markdown",
   "metadata": {},
   "source": [
    "Na wczytanych obrazach wykonaj wybrane operacje logiczne: NOT (operator `~`), AND (`&`), OR (`|`), XOR (`^`).\n",
    "Operator `~` jest jednoargumentowy, wszystkie pozostałe są dwuargumentowe.\n",
    "Alternatywnym sposobem jest wykorzystanie funkcji z biblioteki opencv: `cv2.bitwise_not`, `cv2.bitwise_and`, `cv2.bitwise_or`, `cv2.bitwise_xor`.\n",
    "Wyświetl rezultaty."
   ]
  },
  {
   "cell_type": "code",
   "execution_count": null,
   "metadata": {
    "pycharm": {
     "name": "#%%\n"
    }
   },
   "outputs": [],
   "source": [
    "nott = cv2.bitwise_not(kwadrat)\n",
    "andd = cv2.bitwise_and(kwadrat, kolo)\n",
    "orr = cv2.bitwise_or(kwadrat, kolo)\n",
    "xorr = cv2.bitwise_xor(kwadrat, kolo)\n",
    "\n",
    "fig4, ((n, a), (o, x)) = plt.subplots(2, 2, figsize=(8, 8))\n",
    "n.imshow(nott)\n",
    "n.set(xticks=[], yticks=[])\n",
    "\n",
    "a.imshow(andd)\n",
    "a.set(xticks=[], yticks=[])\n",
    "\n",
    "o.imshow(orr)\n",
    "o.set(xticks=[], yticks=[])\n",
    "\n",
    "x.imshow(xorr)\n",
    "x.set(xticks=[], yticks=[])\n",
    "\n",
    "n.set_title('Operacja NOT')\n",
    "a.set_title('Operacja AND')\n",
    "o.set_title('Operacja OR')\n",
    "x.set_title('Operacja XOR')\n",
    "\n",
    "nott = cv2.bitwise_not(kolo)\n",
    "andd = cv2.bitwise_and(kolo, kwadrat)\n",
    "orr = cv2.bitwise_or(kolo, kwadrat)\n",
    "xorr = cv2.bitwise_xor(kolo, kwadrat)\n",
    "\n",
    "fig5, ((n, a), (o, x)) = plt.subplots(2, 2, figsize=(8, 8))\n",
    "n.imshow(nott)\n",
    "n.set(xticks=[], yticks=[])\n",
    "\n",
    "a.imshow(andd)\n",
    "a.set(xticks=[], yticks=[])\n",
    "\n",
    "o.imshow(orr)\n",
    "o.set(xticks=[], yticks=[])\n",
    "\n",
    "x.imshow(xorr)\n",
    "x.set(xticks=[], yticks=[])\n",
    "\n",
    "n.set_title('Operacja NOT')\n",
    "a.set_title('Operacja AND')\n",
    "o.set_title('Operacja OR')\n",
    "x.set_title('Operacja XOR')\n"
   ]
  },
  {
   "cell_type": "code",
   "execution_count": null,
   "metadata": {},
   "outputs": [],
   "source": []
  }
 ],
 "metadata": {
  "kernelspec": {
   "display_name": "Python 3",
   "language": "python",
   "name": "python3"
  },
  "language_info": {
   "codemirror_mode": {
    "name": "ipython",
    "version": 3
   },
   "file_extension": ".py",
   "mimetype": "text/x-python",
   "name": "python",
   "nbconvert_exporter": "python",
   "pygments_lexer": "ipython3",
   "version": "3.11.2"
  }
 },
 "nbformat": 4,
 "nbformat_minor": 4
}
