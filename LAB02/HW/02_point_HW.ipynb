{
 "cells": [
  {
   "cell_type": "markdown",
   "metadata": {
    "collapsed": false
   },
   "source": [
    "# Zadanie domowe\n",
    "\n",
    "W przypadku obrazów w odcieniach szarości pojedynczy piksel z zakresu [0; 255] reprezentowany jest jako 8-bitowa liczba bez znaku.\n",
    "Pewnym rozszerzeniem analizy sposobu reprezentacji obrazu może być następujący eksperyment.\n",
    "Załóżmy, że z każdego z 8 bitów możemy stworzyć pojedynczy obraz binarny (ang. _bit-plane slicing_).\n",
    "Dla obrazka _100zloty.jpg_ (https://raw.githubusercontent.com/vision-agh/poc_sw/master/02_Point/100zloty.jpg) stwórz 8 obrazów, z których każdy powinien zawierać jedną płaszczyznę bitową.\n",
    "Podpowiedź $-$ warto sprawdzić, jak realizuje się bitowe operacje logiczne.\n",
    "Zastosowanie takiej dekompozycji obrazu pozwala na analizę ,,ważności'' poszczególnych bitów.\n",
    "Jest to użyteczne w kwantyzacji, ale także w kompresji.\n",
    "\n",
    "W drugim etapie zadania proszę spróbować odtworzyć obraz oryginalny z mniejszej liczby obrazów binarnych.\n",
    "Warto zacząć od dwóch najbardziej znaczących bitów, a później dodawać kolejne.\n",
    "Należy utworzyć co najmniej trzy wersje zrekonstruowanych obrazów.\n",
    "Podpowiedź $-$ rekonstrukcja obrazu to mnożenie przez odpowiednią potęgę liczby 2 (przesunięcie bitowe) oraz dodawanie."
   ]
  },
  {
   "cell_type": "code",
   "execution_count": null,
   "metadata": {},
   "outputs": [],
   "source": [
    "import cv2\n",
    "import numpy as np\n",
    "import matplotlib.pyplot as plt\n",
    "import os"
   ]
  },
  {
   "cell_type": "code",
   "execution_count": null,
   "metadata": {},
   "outputs": [],
   "source": [
    "if not os.path.exists('100zloty.jpg'):\n",
    "    !wget https://raw.githubusercontent.com/vision-agh/poc_sw/master/02_Point/100zloty.jpg\n",
    "\n",
    "zloty_brg = cv2.imread('100zloty.jpg')\n",
    "zloty_rgb = cv2.cvtColor(zloty_brg, cv2.COLOR_BGR2RGB)\n",
    "zloty = cv2.cvtColor(zloty_rgb, cv2.COLOR_RGB2GRAY)\n",
    "\n",
    "bits = []\n",
    "plt.figure(figsize=(12, 12))\n",
    "for i in range(8):\n",
    "    bit = 2 ** i\n",
    "    zero = bit * np.ones((847, 1661))\n",
    "    zero8 = zero.astype('uint8')\n",
    "    temp = cv2.bitwise_and(zloty, zero8)\n",
    "    bits.append(temp)\n",
    "    plt.subplot(4, 2, i + 1)\n",
    "    plt.imshow(temp)\n",
    "    plt.xticks([])\n",
    "    plt.yticks([])\n",
    "    plt.gray()\n",
    "    plt.title('Bit {}'.format(i + 1))\n",
    "plt.show()\n"
   ]
  },
  {
   "cell_type": "code",
   "execution_count": null,
   "metadata": {},
   "outputs": [],
   "source": [
    "r100_1 = cv2.add(bits[7], bits[6])\n",
    "r100_2 = cv2.add(bits[7], bits[0])\n",
    "r100_3 = cv2.add(bits[3], bits[2])\n",
    "r100_4 = cv2.add(bits[6], bits[1])\n",
    "\n",
    "fig, ((r1, r2), (r3, r4)) = plt.subplots(2, 2, figsize=(12, 6))\n",
    "r1.imshow(r100_1)\n",
    "r2.imshow(r100_2)\n",
    "r3.imshow(r100_3)\n",
    "r4.imshow(r100_4)\n",
    "r1.set(xticks=[], yticks=[])\n",
    "r2.set(xticks=[], yticks=[])\n",
    "r3.set(xticks=[], yticks=[])\n",
    "r4.set(xticks=[], yticks=[])\n",
    "r1.set_title('Bit 8 i 7')\n",
    "r2.set_title('Bit 8 i 1')\n",
    "r3.set_title('Bit 4 i 3')\n",
    "r4.set_title('Bit 7 i 2')"
   ]
  },
  {
   "cell_type": "code",
   "execution_count": null,
   "metadata": {},
   "outputs": [],
   "source": []
  }
 ],
 "metadata": {
  "kernelspec": {
   "display_name": "Python 3",
   "language": "python",
   "name": "python3"
  },
  "language_info": {
   "codemirror_mode": {
    "name": "ipython",
    "version": 3
   },
   "file_extension": ".py",
   "mimetype": "text/x-python",
   "name": "python",
   "nbconvert_exporter": "python",
   "pygments_lexer": "ipython3",
   "version": "3.11.2"
  }
 },
 "nbformat": 4,
 "nbformat_minor": 0
}
